{
 "cells": [
  {
   "cell_type": "code",
   "execution_count": 3,
   "metadata": {},
   "outputs": [
    {
     "name": "stdout",
     "output_type": "stream",
     "text": [
      "How many data do you want to introduce?4\n",
      "Introduce name: pepito\n",
      "Introduce name: fulano\n",
      "Introduce name: mengano\n",
      "Introduce name: perengano\n",
      "These are the names: \n",
      "pepito fulano mengano perengano \n",
      "Write a number to choose a name:5\n",
      "\n",
      "Write a number to choose a name:2\n",
      "fulano\n"
     ]
    }
   ],
   "source": [
    "name=int(input(\"How many data do you want to introduce?\"))\n",
    "names= [ ]\n",
    "for i in range(0,name):\n",
    "    x = input(\"Introduce name: \")\n",
    "    names.append(x)\n",
    "print(\"These are the names: \")\n",
    "\n",
    "for nm in names:\n",
    "    print(nm,end=' ')\n",
    "selection=int(input(\"\\nWrite a number to choose a name:\"))\n",
    "if selection<=name:\n",
    "    print(names[selection-1])\n",
    "elif selection>name:\n",
    "    selection=int(input(\"\\nWrite a number to choose a name:\"))\n",
    "    if selection<=name:\n",
    "        print(names[selection-1])\n",
    "    else:\n",
    "        print(\"ERROR TRY AGAIN\")"
   ]
  }
 ],
 "metadata": {
  "kernelspec": {
   "display_name": "Python 3",
   "language": "python",
   "name": "python3"
  },
  "language_info": {
   "codemirror_mode": {
    "name": "ipython",
    "version": 3
   },
   "file_extension": ".py",
   "mimetype": "text/x-python",
   "name": "python",
   "nbconvert_exporter": "python",
   "pygments_lexer": "ipython3",
   "version": "3.7.3"
  }
 },
 "nbformat": 4,
 "nbformat_minor": 2
}
