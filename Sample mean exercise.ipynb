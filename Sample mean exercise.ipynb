{
 "cells": [
  {
   "cell_type": "code",
   "execution_count": 2,
   "metadata": {},
   "outputs": [
    {
     "name": "stdout",
     "output_type": "stream",
     "text": [
      "Age1=15\n",
      "Age2=20\n",
      "Age3=35\n",
      "The sample mean equal= 23.333333333333332\n"
     ]
    }
   ],
   "source": [
    "age1=float(input(\"Age1=\"))\n",
    "age2=float(input(\"Age2=\"))\n",
    "age3=float(input(\"Age3=\"))\n",
    "print(\"The sample mean equal=\",(age1+age2+age3)/3)"
   ]
  }
 ],
 "metadata": {
  "kernelspec": {
   "display_name": "Python 3",
   "language": "python",
   "name": "python3"
  },
  "language_info": {
   "codemirror_mode": {
    "name": "ipython",
    "version": 3
   },
   "file_extension": ".py",
   "mimetype": "text/x-python",
   "name": "python",
   "nbconvert_exporter": "python",
   "pygments_lexer": "ipython3",
   "version": "3.7.3"
  }
 },
 "nbformat": 4,
 "nbformat_minor": 2
}
