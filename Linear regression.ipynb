{
 "cells": [
  {
   "cell_type": "code",
   "execution_count": 1,
   "metadata": {},
   "outputs": [
    {
     "name": "stdout",
     "output_type": "stream",
     "text": [
      "Introduce a value for n6\n",
      "Valor de x:1\n",
      "Valor de y:2\n",
      "Valor de x:1\n",
      "Valor de y:3\n",
      "Valor de x:2\n",
      "Valor de y:3\n",
      "Valor de x:2\n",
      "Valor de y:3\n",
      "Valor de x:3\n",
      "Valor de y:4\n",
      "Valor de x:3\n",
      "Valor de y:5\n",
      "x=[1, 1, 2, 2, 3, 3]\n",
      "y=[2, 3, 3, 3, 4, 5]\n",
      "The sum of x equal:12\n",
      "The sum of the y equal:20\n",
      "The sum of the xy multiplication is:44\n",
      "The sum of the x square is:28\n",
      "The square of sum of x is:144\n",
      "The value of n is: 6\n",
      "The equation is: y=1.3333333333333333+(1.0x)\n",
      "Introduce the values for the prediction that you want10\n",
      "The prediction is:11.333333333333334\n"
     ]
    }
   ],
   "source": [
    "n1=int(input('Introduce a value for n'))\n",
    "n2=1\n",
    "sumax=0\n",
    "sumay=0\n",
    "sumaxy=0\n",
    "listax=[]\n",
    "listay=[]\n",
    "sumatoriaxcuadrada=0\n",
    "\n",
    "while n2<=n1:\n",
    "    n3=int(input('Valor de x:'))\n",
    "    n4=int(input('Valor de y:'))\n",
    "    listax.append(n3)\n",
    "    listay.append(n4)\n",
    "    sumax=sumax+n3\n",
    "    sumay=sumay+n4\n",
    "    multiplicacionxy=n3*n4\n",
    "    sumaxy=sumaxy+multiplicacionxy\n",
    "    sumatoriaxcuadrada=sumatoriaxcuadrada+(n3**2)\n",
    "    n2=n2+1\n",
    "    \n",
    "sumaxalcuadrado=sumax**2\n",
    "print(f'x={listax}')\n",
    "\n",
    "print(f'y={listay}')\n",
    "\n",
    "print(f'The sum of x equal:{sumax}\\nThe sum of the y equal:{sumay}')\n",
    "\n",
    "print(f'The sum of the xy multiplication is:{sumaxy}')\n",
    "\n",
    "print(f'The sum of the x square is:{sumatoriaxcuadrada}')\n",
    "\n",
    "print(f'The square of sum of x is:{sumaxalcuadrado}')\n",
    "      \n",
    "print(f'The value of n is: {n1}')\n",
    "\n",
    "\n",
    "b1=((n1*sumaxy)-(sumax*sumay))/((n1*sumatoriaxcuadrada)-sumaxalcuadrado)\n",
    "b0=(sumay-(b1*sumax))/n1\n",
    "print(f'The equation is: y={b0}+({b1}x)')\n",
    "prediccionx=int(input('Introduce the values for the prediction that you want'))\n",
    "prediccion=b0+b1*prediccionx\n",
    "print(f'The prediction for the prediction is:{prediccion}')"
   ]
  }
 ],
 "metadata": {
  "kernelspec": {
   "display_name": "Python 3",
   "language": "python",
   "name": "python3"
  },
  "language_info": {
   "codemirror_mode": {
    "name": "ipython",
    "version": 3
   },
   "file_extension": ".py",
   "mimetype": "text/x-python",
   "name": "python",
   "nbconvert_exporter": "python",
   "pygments_lexer": "ipython3",
   "version": "3.7.3"
  }
 },
 "nbformat": 4,
 "nbformat_minor": 2
}
