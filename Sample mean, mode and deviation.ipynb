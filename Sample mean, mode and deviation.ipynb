{
 "cells": [
  {
   "cell_type": "code",
   "execution_count": null,
   "metadata": {},
   "outputs": [
    {
     "name": "stdout",
     "output_type": "stream",
     "text": [
      "Introduce a value: 5\n",
      "Write 0 to stop introduce values\n",
      " if you want to continue write any number: 1\n",
      "Introduce a value: 7\n",
      "Write 0 to stop introduce values\n",
      " if you want to continue write any number: 1\n",
      "Introduce a value: 9\n",
      "Write 0 to stop introduce values\n",
      " if you want to continue write any number: 1\n",
      "Introduce a value: 10\n",
      "Write 0 to stop introduce values\n",
      " if you want to continue write any number: 0\n",
      "\n",
      "1-Sample mean\n",
      "2-Mode\n",
      "3-Standard deviation\n",
      "Choose the number of the operation that you want: 3\n",
      "2.217355782608345\n"
     ]
    }
   ],
   "source": [
    "i=0\n",
    "n=0\n",
    "sum_x=0\n",
    "xl=[]\n",
    "mode=[]\n",
    "sb=0\n",
    "while i<1:\n",
    "    \n",
    "    for a in range(0,1):\n",
    "        x=float(input(\"Introduce a value: \"))\n",
    "        mode.append(x)\n",
    "        xl.append(x)\n",
    "        sum_x+=x\n",
    "        n+=1\n",
    "        y=int(input(\"Write 0 to stop introduce values\\n if you want to continue write any number: \"))\n",
    "        if y ==0:\n",
    "            print(\"\\n1-Sample mean\\n2-Mode\\n3-Standard deviation\")\n",
    "            op=int(input(\"Choose the number of the operation that you want: \"))\n",
    "            if op==1:\n",
    "                sample_mean=(sum_x)/n\n",
    "                print(sample_mean)\n",
    "            if op==2:\n",
    "                repeat = 0\n",
    "                for k in mode:\n",
    "                    times = mode.count(k)\n",
    "                    if times > repeat:\n",
    "                        repeat = times   \n",
    "                modes = []\n",
    "                for k in mode:\n",
    "                    times = mode.count(k)\n",
    "                    if times == repeat and k not in modes:\n",
    "                        modes.append(k)\n",
    "                print (\"mode:\", modes)  \n",
    "            if op==3:\n",
    "                for s in range(0,1):\n",
    "                    sample_mean=(sum_x)/n\n",
    "                    xl[:] = [(x - sample_mean)**2 for x in xl]\n",
    "                    sb=sum(xl[:])\n",
    "                    sq=sb/(n-1)\n",
    "                    s=sq**0.5\n",
    "                    print(s)\n",
    "            "
   ]
  }
 ],
 "metadata": {
  "kernelspec": {
   "display_name": "Python 3",
   "language": "python",
   "name": "python3"
  },
  "language_info": {
   "codemirror_mode": {
    "name": "ipython",
    "version": 3
   },
   "file_extension": ".py",
   "mimetype": "text/x-python",
   "name": "python",
   "nbconvert_exporter": "python",
   "pygments_lexer": "ipython3",
   "version": "3.7.3"
  }
 },
 "nbformat": 4,
 "nbformat_minor": 2
}
