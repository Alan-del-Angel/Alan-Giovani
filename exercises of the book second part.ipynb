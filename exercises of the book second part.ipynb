{
 "cells": [
  {
   "cell_type": "markdown",
   "metadata": {},
   "source": [
    "# Explanation of the exercises second part"
   ]
  },
  {
   "cell_type": "markdown",
   "metadata": {},
   "source": [
    "## Exercise 6 \"strings and text\""
   ]
  },
  {
   "cell_type": "markdown",
   "metadata": {},
   "source": [
    "This is used to write a print in which are going to write a variable previously defined, with the intention to be easier to write a code line print in the case that you need to write more than one or two times you only needed to write first the variable equal f and the thing that we want in the value of the variable between mark quotations. After that when we write print and the variable.\n",
    "For example:"
   ]
  },
  {
   "cell_type": "code",
   "execution_count": 14,
   "metadata": {},
   "outputs": [
    {
     "name": "stdout",
     "output_type": "stream",
     "text": [
      "This is the example of string and text. .\n",
      "And it is a great example.\n"
     ]
    }
   ],
   "source": [
    "variable = \"string and text.\"\n",
    "x = f\"This is the example of {variable} .\"\n",
    "\n",
    "second = \"great\"\n",
    "y = f\"And it is a {second} example.\"\n",
    "\n",
    "print(x)\n",
    "print(y)"
   ]
  },
  {
   "cell_type": "markdown",
   "metadata": {},
   "source": [
    "## Exercise 7 \"More printing\""
   ]
  },
  {
   "cell_type": "markdown",
   "metadata": {},
   "source": [
    "This is another exercise with print but in this case, only its establish different variables and at the end write a print to join all the variables that we previously established.\n",
    "Check this example:"
   ]
  },
  {
   "cell_type": "code",
   "execution_count": 15,
   "metadata": {},
   "outputs": [
    {
     "name": "stdout",
     "output_type": "stream",
     "text": [
      "well here we go again\n",
      "with another example\n",
      "THIS IS THE EXAMPLE\n"
     ]
    }
   ],
   "source": [
    "print(\"well here we go again\")\n",
    "print(\"with another example\")\n",
    "a1 = \"T\"\n",
    "a2 = \"H\"\n",
    "a3 = \"I\"\n",
    "a4 = \"S\"\n",
    "a5 = \" \"\n",
    "a6 = \"I\"\n",
    "a7 = \"S\"\n",
    "a8 = \" \"\n",
    "a9 = \"T\"\n",
    "a10 = \"H\"\n",
    "a11 = \"E\"\n",
    "a12 = \" \"\n",
    "a13 = \"E\"\n",
    "a14 = \"X\"\n",
    "a15 = \"A\"\n",
    "a16 = \"M\"\n",
    "a17 = \"P\"\n",
    "a18 = \"L\"\n",
    "a19 = \"E\"\n",
    "print(a1 + a2 + a3 + a4 + a5 + a6 + a7 + a8 + a9 + a10 + a11 + a12 + a13 + a14 + a15 + a16 + a17 + a18 + a19)"
   ]
  },
  {
   "cell_type": "markdown",
   "metadata": {},
   "source": [
    "## Exercise 8 \"Printing, printing\""
   ]
  },
  {
   "cell_type": "markdown",
   "metadata": {},
   "source": [
    "This is another type of string. You can use this type of string if you want to write a poem, song or another thing but that already depends on you.\n",
    "Check the example:"
   ]
  },
  {
   "cell_type": "code",
   "execution_count": 18,
   "metadata": {},
   "outputs": [
    {
     "name": "stdout",
     "output_type": "stream",
     "text": [
      "Here we go again\n",
      "you can choose\n",
      "how many\n",
      "words you want depending on the format\n"
     ]
    }
   ],
   "source": [
    "formatter = \"{} {} {} {}\"\n",
    "formatter1 = \"{} {} {}\"\n",
    "formatter2 = \"{} {}\"\n",
    "formatter3 = \"{} {} {} {} {} {} {}\"\n",
    "print(formatter . format(\"Here\",\"we\", \"go\", \"again\"))\n",
    "print(formatter1 . format(\"you\",\"can\", \"choose\"))\n",
    "print(formatter2 . format(\"how\",\"many\"))\n",
    "print(formatter3 . format(\"words\",\"you\",\"want\",\"depending\",\"on\",\"the\",\"format\"))\n"
   ]
  },
  {
   "cell_type": "markdown",
   "metadata": {},
   "source": [
    "## Exercise 9 \"Printing, Printing, Printing\""
   ]
  },
  {
   "cell_type": "markdown",
   "metadata": {},
   "source": [
    "This exercise shows us three ways to use print.\n",
    "The most common is print(\"the text that we want\", this space is to add a variable previously written).\n",
    "The second way is almost the same but the variable has \"\\n\" this means to leave a spaceline. And the last is with three quotation marks this means we can write two o more lines as we want.\n",
    "Examples:"
   ]
  },
  {
   "cell_type": "code",
   "execution_count": 23,
   "metadata": {},
   "outputs": [
    {
     "name": "stdout",
     "output_type": "stream",
     "text": [
      "first example: The most common\n",
      "second example: \n",
      "with\n",
      "a\n",
      "space\n",
      "\n",
      "Here we \n",
      "can write \n",
      "as many lines \n",
      "as we want\n",
      "\n"
     ]
    }
   ],
   "source": [
    "first = \"The most common\"\n",
    "second = \"\\nwith\\na\\nspace\"\n",
    "print(\"first example:\", first)\n",
    "\n",
    "print(\"second example:\", second)\n",
    "\n",
    "print(\"\"\"\n",
    "Here we \n",
    "can write \n",
    "as many lines \n",
    "as we want\n",
    "\"\"\")"
   ]
  },
  {
   "cell_type": "markdown",
   "metadata": {},
   "source": [
    "## Exercise 10 \"What Was That?\""
   ]
  },
  {
   "cell_type": "markdown",
   "metadata": {},
   "source": [
    "This exercise shows us the \"\\n\" that we saw in the previous exercise, but shows two new commands that are: the backslash with the letter t that allows us to leave a little space after the word. \n",
    "Also teaches us how to write the backslash writing two backslash.\n",
    "Examples:"
   ]
  },
  {
   "cell_type": "code",
   "execution_count": 25,
   "metadata": {},
   "outputs": [
    {
     "name": "stdout",
     "output_type": "stream",
     "text": [
      "\tFirst example\n",
      "Here we \n",
      "Go again\n",
      "I \\ dont know \\ what happen\n",
      "\n",
      "with the backslash t we can make list\n",
      "\t*things to do\n",
      "\t*things to buy\n",
      "\t*things to learn\n",
      "\t*another things\n",
      "\n"
     ]
    }
   ],
   "source": [
    "backslash_t = \"\\tFirst example\"\n",
    "again = \"Here we \\nGo again\"\n",
    "backslash = \"I \\\\ dont know \\\\ what happen\"\n",
    "\n",
    "print(backslash_t)\n",
    "print(again)\n",
    "print(backslash)\n",
    "\n",
    "print (\"\"\"\n",
    "with the backslash t we can make list\n",
    "\\t*things to do\n",
    "\\t*things to buy\n",
    "\\t*things to learn\n",
    "\\t*another things\n",
    "\"\"\")"
   ]
  },
  {
   "cell_type": "code",
   "execution_count": null,
   "metadata": {},
   "outputs": [],
   "source": []
  }
 ],
 "metadata": {
  "kernelspec": {
   "display_name": "Python 3",
   "language": "python",
   "name": "python3"
  },
  "language_info": {
   "codemirror_mode": {
    "name": "ipython",
    "version": 3
   },
   "file_extension": ".py",
   "mimetype": "text/x-python",
   "name": "python",
   "nbconvert_exporter": "python",
   "pygments_lexer": "ipython3",
   "version": "3.7.3"
  }
 },
 "nbformat": 4,
 "nbformat_minor": 2
}
