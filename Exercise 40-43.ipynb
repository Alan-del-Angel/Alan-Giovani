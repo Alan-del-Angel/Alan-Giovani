{
 "cells": [
  {
   "cell_type": "markdown",
   "metadata": {},
   "source": [
    "# Exercise 40"
   ]
  },
  {
   "cell_type": "markdown",
   "metadata": {},
   "source": [
    "## Module\n",
    "The exercise 40 talk about how to use modules, classes and objects.\n",
    "First the modules, the books said that the modules wokrs as a dictionary.\n",
    "So to work with a module you must create a file where you write a variable and give a value for that variable.\n",
    "For example my variable was calles module, i wrote in the file module={'definition':\"Example of definition\"}\n",
    "def definition():\n",
    "    print(\"Example of definition\")\n",
    "When you make that save the file with the extension .py put in the folder of the program. If you don't put the file in the folder the program is not going to work."
   ]
  },
  {
   "cell_type": "code",
   "execution_count": 3,
   "metadata": {},
   "outputs": [
    {
     "name": "stdout",
     "output_type": "stream",
     "text": [
      "Example of definition\n"
     ]
    }
   ],
   "source": [
    "import module\n",
    "module.definition()"
   ]
  },
  {
   "cell_type": "markdown",
   "metadata": {},
   "source": [
    "## Classes \n",
    "The classes are used to make certain quantity of variables with data and use them without confusion in case that you have a lot of data"
   ]
  },
  {
   "cell_type": "code",
   "execution_count": 4,
   "metadata": {},
   "outputs": [
    {
     "name": "stdout",
     "output_type": "stream",
     "text": [
      "Hello\n",
      "This is the\n",
      "Example\n",
      "I hope\n",
      "Understand this\n"
     ]
    }
   ],
   "source": [
    "class something:\n",
    "    def __init__(self, thing):\n",
    "        self.thing = thing\n",
    "\n",
    "    def tell_me_something(self):\n",
    "        for line in self.thing:\n",
    "            print(line)\n",
    "\n",
    "first = something([\"Hello\",\n",
    "                       \"This is the\",\n",
    "                       \"Example\"])\n",
    "\n",
    "second = something([\"I hope\",\n",
    "                       \"Understand this\"])\n",
    "first.tell_me_something()\n",
    "\n",
    "second.tell_me_something()"
   ]
  },
  {
   "cell_type": "markdown",
   "metadata": {},
   "source": [
    "# Exercise 41"
   ]
  },
  {
   "cell_type": "markdown",
   "metadata": {},
   "source": [
    "This exercise is a small lecture that talk about some little concepts of the commands:\n",
    "class: Tell Python to make a new type of thing.\n",
    "object Two meanings: the most basic type of thing, and any instance of some thing.\n",
    "def: How you define a function inside a class.\n",
    "self: Inside the functions in a class, self is a variable for the instance/object being accessed.\n",
    "These are the conceps that we used recently, the book explain other concepts but from exercise 40 to 43 these are the commands what we use."
   ]
  },
  {
   "cell_type": "markdown",
   "metadata": {},
   "source": [
    "# Exercise 42"
   ]
  },
  {
   "cell_type": "markdown",
   "metadata": {},
   "source": [
    "The exercise 42 talk us about the differences between is-a and has-a the book said us that is-a is when you talk about an object or something and when you use has-a is when you talk about other object but this have a relationship with the previous object."
   ]
  },
  {
   "cell_type": "code",
   "execution_count": 16,
   "metadata": {},
   "outputs": [],
   "source": [
    "class Food(object):\n",
    "    pass \n",
    "class Meat:\n",
    "    def __init__(self,soso):\n",
    "        self.soso=soso\n",
    "class Chiken(Food):\n",
    "    def __init__(self,good):\n",
    "        self.good=good\n",
    "class Person:\n",
    "    def __init__(self,name):\n",
    "        self.name=name\n",
    "        self.meal=None\n",
    "beaf= Meat([\"Beaf\"])\n",
    "spicy= Chiken([\"Spicy chiken\"])\n",
    "carlos=Person([\"Carlos\"])\n",
    "carlos.meal=spicy"
   ]
  },
  {
   "cell_type": "code",
   "execution_count": null,
   "metadata": {},
   "outputs": [],
   "source": []
  }
 ],
 "metadata": {
  "kernelspec": {
   "display_name": "Python 3",
   "language": "python",
   "name": "python3"
  },
  "language_info": {
   "codemirror_mode": {
    "name": "ipython",
    "version": 3
   },
   "file_extension": ".py",
   "mimetype": "text/x-python",
   "name": "python",
   "nbconvert_exporter": "python",
   "pygments_lexer": "ipython3",
   "version": "3.7.3"
  }
 },
 "nbformat": 4,
 "nbformat_minor": 2
}
