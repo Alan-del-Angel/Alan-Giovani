{
 "cells": [
  {
   "cell_type": "code",
   "execution_count": null,
   "metadata": {},
   "outputs": [],
   "source": [
    "                                #EXERCISE 13\n",
    "    \n",
    "from sys import argv        # First we use the library called \"sys\" and import \"argv\" to define the arguments\n",
    "\n",
    "                #file_name\n",
    "    \n",
    "a, b, c, d, e, f, g, h, = argv     #In the second part we implement the script and our \"variables\"\n",
    "\n",
    "print(\"The value of a (name of the archive):\", a)     #We write the first script, in this case it is the name we gave to the file\n",
    "print(\"The value of b is:\", b)    #finally we write all the variables\n",
    "print(\"The value of c is:\", c)    \n",
    "print(\"The value of d is:\", d)     \n",
    "print(\"The value of e is:\", e)\n",
    "print(\"The value of f is:\", f)\n",
    "print(\"The value of g is:\", g)\n",
    "print(\"The value of h is:\", h)"
   ]
  },
  {
   "cell_type": "code",
   "execution_count": null,
   "metadata": {},
   "outputs": [],
   "source": []
  }
 ],
 "metadata": {
  "kernelspec": {
   "display_name": "Python 3",
   "language": "python",
   "name": "python3"
  },
  "language_info": {
   "codemirror_mode": {
    "name": "ipython",
    "version": 3
   },
   "file_extension": ".py",
   "mimetype": "text/x-python",
   "name": "python",
   "nbconvert_exporter": "python",
   "pygments_lexer": "ipython3",
   "version": "3.7.3"
  }
 },
 "nbformat": 4,
 "nbformat_minor": 2
}
