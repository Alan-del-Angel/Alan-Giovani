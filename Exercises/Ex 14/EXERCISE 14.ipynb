{
 "cells": [
  {
   "cell_type": "code",
   "execution_count": 3,
   "metadata": {},
   "outputs": [
    {
     "ename": "ValueError",
     "evalue": "too many values to unpack (expected 2)",
     "output_type": "error",
     "traceback": [
      "\u001b[1;31m---------------------------------------------------------------------------\u001b[0m",
      "\u001b[1;31mValueError\u001b[0m                                Traceback (most recent call last)",
      "\u001b[1;32m<ipython-input-3-0a0439952ed8>\u001b[0m in \u001b[0;36m<module>\u001b[1;34m\u001b[0m\n\u001b[0;32m      1\u001b[0m \u001b[1;32mfrom\u001b[0m \u001b[0msys\u001b[0m \u001b[1;32mimport\u001b[0m \u001b[0margv\u001b[0m                    \u001b[1;31m#Use the library sys and import argv for implement arguments\u001b[0m\u001b[1;33m\u001b[0m\u001b[1;33m\u001b[0m\u001b[0m\n\u001b[0;32m      2\u001b[0m \u001b[1;33m\u001b[0m\u001b[0m\n\u001b[1;32m----> 3\u001b[1;33m \u001b[0mEXERCISE\u001b[0m \u001b[1;33m,\u001b[0m \u001b[0mJavier\u001b[0m \u001b[1;33m=\u001b[0m \u001b[0margv\u001b[0m          \u001b[1;31m#Save the name of the archive and the name when your type in the console\u001b[0m\u001b[1;33m\u001b[0m\u001b[1;33m\u001b[0m\u001b[0m\n\u001b[0m\u001b[0;32m      4\u001b[0m \u001b[0mx\u001b[0m \u001b[1;33m=\u001b[0m \u001b[1;34m'>'\u001b[0m\u001b[1;33m\u001b[0m\u001b[1;33m\u001b[0m\u001b[0m\n\u001b[0;32m      5\u001b[0m \u001b[1;33m\u001b[0m\u001b[0m\n",
      "\u001b[1;31mValueError\u001b[0m: too many values to unpack (expected 2)"
     ]
    }
   ],
   "source": [
    "from sys import argv                    #Use the library sys and import argv for implement arguments\n",
    "\n",
    "EXERCISE , Javier = argv          #Save the name of the archive and the name when your type in the console\n",
    "x = '>'\n",
    "\n",
    "print(f\"Hi {username}, I'm the {name_archive} script.\" )   #Make questions\n",
    "print(f\"I need to make some questions {username}.\")\n",
    "print(f\"How many dogs did you have?\")\n",
    "dogs = input(x)                                            #Save the answer\n",
    "\n",
    "print(f\"Where do you live {username}?\")\n",
    "live = input(x)\n",
    "\n",
    "print(f\"What is your favorite food {username}?\")\n",
    "food = input(x)\n",
    "\n",
    "print(f\"You are {username}, and you have had {dogs} dogs,\")       #Finally we print all the answers in a sentence or expression\n",
    "print(f\"you live in {live}, and your favorite food is {food}.\")"
   ]
  },
  {
   "cell_type": "code",
   "execution_count": null,
   "metadata": {},
   "outputs": [],
   "source": []
  }
 ],
 "metadata": {
  "kernelspec": {
   "display_name": "Python 3",
   "language": "python",
   "name": "python3"
  },
  "language_info": {
   "codemirror_mode": {
    "name": "ipython",
    "version": 3
   },
   "file_extension": ".py",
   "mimetype": "text/x-python",
   "name": "python",
   "nbconvert_exporter": "python",
   "pygments_lexer": "ipython3",
   "version": "3.7.3"
  }
 },
 "nbformat": 4,
 "nbformat_minor": 2
}
