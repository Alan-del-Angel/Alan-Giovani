{
 "cells": [
  {
   "cell_type": "code",
   "execution_count": null,
   "metadata": {},
   "outputs": [],
   "source": [
    "                                           #EXERCISE 16\n",
    "\n",
    "from sys import argv                    #First we use the library sys and import argv for implement arguments\n",
    "\n",
    "name_archive, filename = argv          #save the name of the file and the name when your type in the console\n",
    "\n",
    "print(f\"We are going to erase {filename}\")      #Make some scripts\n",
    "print(\"\\n\")\n",
    "print(f\"If you don't want to see, hit A \")  #And select one of these options\n",
    "print(\"\\n\")\n",
    "print(f\"If do you want to read, hit B \")\n",
    "\n",
    "input(\"?\")\n",
    "\n",
    "print(\"Opening your file ...\")  #Open the file\n",
    "tar = open(filename, 'w')     #Select the file\n",
    "print(\"The file is truncated\")\n",
    "\n",
    "tar.tell()  # Show the cursos\n",
    "tar.seek(0, 0) #at the begining\n",
    "tar.truncate()  #and finally truncate the archive (erase the content)\n",
    "\n",
    "\n",
    "print(\"Now you are  to write 3 lines....\")    #Type a phrase in 3 lines\n",
    "line1 = input(\"line 1:  \")\n",
    "line2 = input(\"line 2:  \")\n",
    "line3 = input(\"line 3:  \")\n",
    "\n",
    "print(\"Writing.....\")                     #And finally print the archive\n",
    "tar.write(\"\\n\")\n",
    "tar.write(line1)\n",
    "tar.write(\"\\n\")\n",
    "tar.write(line2)\n",
    "tar.write(\"\\n\")\n",
    "tar.write(line3)\n",
    "tar.write(\"\\n\")\n",
    "\n",
    "print(\"Now see you file..... 7u7\")\n",
    "\n",
    "tar.close()                           #And close everywhere"
   ]
  }
 ],
 "metadata": {
  "kernelspec": {
   "display_name": "Python 3",
   "language": "python",
   "name": "python3"
  },
  "language_info": {
   "codemirror_mode": {
    "name": "ipython",
    "version": 3
   },
   "file_extension": ".py",
   "mimetype": "text/x-python",
   "name": "python",
   "nbconvert_exporter": "python",
   "pygments_lexer": "ipython3",
   "version": "3.7.3"
  }
 },
 "nbformat": 4,
 "nbformat_minor": 2
}
