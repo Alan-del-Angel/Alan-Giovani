{
 "cells": [
  {
   "cell_type": "code",
   "execution_count": null,
   "metadata": {},
   "outputs": [],
   "source": [
    "                           #EXERCISE 15\n",
    "\n",
    "\n",
    "from sys import argv                    #Use the library sys and import argv for implement arguments\n",
    "\n",
    "name_archive, username = argv          #save the name of the archive and the name when your type in the console\n",
    "\n",
    "text = open('Example.txt')               #Open the archive\n",
    "\n",
    "print(f\"Your text is {text}\")         #Print the name\n",
    "print(text.read())                    #And finally print the text\n",
    "\n",
    "x = \"> \"\n",
    "\n",
    "print(f\"Type the name of the text again:\")     #And print the text again\n",
    "a = input(\"> \")\n",
    "\n",
    "t_a =  open(a)\n",
    "\n",
    "print(t_a.read())"
   ]
  }
 ],
 "metadata": {
  "kernelspec": {
   "display_name": "Python 3",
   "language": "python",
   "name": "python3"
  },
  "language_info": {
   "codemirror_mode": {
    "name": "ipython",
    "version": 3
   },
   "file_extension": ".py",
   "mimetype": "text/x-python",
   "name": "python",
   "nbconvert_exporter": "python",
   "pygments_lexer": "ipython3",
   "version": "3.7.3"
  }
 },
 "nbformat": 4,
 "nbformat_minor": 2
}
