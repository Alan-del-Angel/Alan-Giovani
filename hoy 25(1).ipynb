{
 "cells": [
  {
   "cell_type": "markdown",
   "metadata": {},
   "source": [
    "# EXAMPLES"
   ]
  },
  {
   "cell_type": "markdown",
   "metadata": {},
   "source": [
    "## FIRST EXAMPLE ( A good first program )"
   ]
  },
  {
   "cell_type": "markdown",
   "metadata": {},
   "source": [
    "First of all in this example talk about the command PRINT and the use of this one, we can see that this command is very used and important to put a message on the screen, is very easy to use this command because you only need to put the word \"print\" following by parenthesis and inside of the parenthesis between quotation marks, we put the message or text that we can we want to see on the screen. EXAMPLE:"
   ]
  },
  {
   "cell_type": "code",
   "execution_count": 5,
   "metadata": {},
   "outputs": [
    {
     "name": "stdout",
     "output_type": "stream",
     "text": [
      "First Program\n",
      "STUDENTS:\n",
      "Alan Giovani Del Angel Martinez\n",
      "Luis Gabriel Hernández Vargas\n"
     ]
    }
   ],
   "source": [
    "print(\"First Program\")\n",
    "print(\"STUDENTS:\")\n",
    "print(\"Alan Giovani Del Angel Martinez\")\n",
    "print(\"Luis Gabriel Hernández Vargas\")\n"
   ]
  },
  {
   "cell_type": "markdown",
   "metadata": {},
   "source": [
    "## SECOND EXAMPLE ( Comments and pound characters )"
   ]
  },
  {
   "cell_type": "markdown",
   "metadata": {},
   "source": [
    "In the next example we see the way to add a comment in our text, and do some mathematical operations that we appear in the screen but only the final answer without the complete operation. To do this type of operations we need to use pound characters and quotation marks to do the mathematical operations. EXAMPLE:"
   ]
  },
  {
   "cell_type": "code",
   "execution_count": 6,
   "metadata": {},
   "outputs": [
    {
     "name": "stdout",
     "output_type": "stream",
     "text": [
      "You only this on the final screen.\n"
     ]
    }
   ],
   "source": [
    "# A comment, you can read this.\n",
    "# This dont appear in the final screen.\n",
    "print(\"You only this on the final screen.\")\n"
   ]
  },
  {
   "cell_type": "markdown",
   "metadata": {},
   "source": [
    "## EXERCISE 3 (NUMBERS AND MATH)"
   ]
  },
  {
   "cell_type": "markdown",
   "metadata": {},
   "source": [
    "In this exercise we learn the different math symbols, and to make the mathematical operations we only need to add the corresponding symbol for each operation, and to complete this need to stay after the word \"print\" and between parenthesis the operation, and we obtain on the screen only the result of the operation. EXAMPLE:"
   ]
  },
  {
   "cell_type": "code",
   "execution_count": 7,
   "metadata": {},
   "outputs": [
    {
     "name": "stdout",
     "output_type": "stream",
     "text": [
      "We can count my SHOES.\n",
      "SHOES 5\n",
      "We count my t-shirts\n",
      "T-shirts 21\n"
     ]
    }
   ],
   "source": [
    "print(\"We can count my SHOES.\")\n",
    "print(\"SHOES\",1+1+1+1+1)\n",
    "print(\"We count my t-shirts\")\n",
    "print(\"T-shirts\",1+2+3+4+5+6)\n"
   ]
  },
  {
   "cell_type": "markdown",
   "metadata": {},
   "source": [
    "## EXERCISE 4 (VARIABLES AND NAMES)"
   ]
  },
  {
   "cell_type": "markdown",
   "metadata": {},
   "source": [
    "Now in this exercise we learn to stablish a variable and control this variable using a name previously selected, all of this we need to do firstly establish a name and the constant or variable that we need, and after that during the print we need to put this name according the variable that we need. Finally on screen we have the value of the variable that we use previously. EXAMPLE:"
   ]
  },
  {
   "cell_type": "code",
   "execution_count": 17,
   "metadata": {},
   "outputs": [
    {
     "name": "stdout",
     "output_type": "stream",
     "text": [
      "There are:. 350 students\n",
      "We have:. 8 classrooms\n",
      "Total capacity per classroom:. 43.75 students\n"
     ]
    }
   ],
   "source": [
    "students = 350\n",
    "classrooms = 8\n",
    "classroomscapacity = students/classrooms\n",
    "\n",
    "print(\"There are:.\",students,\"students\")\n",
    "print(\"We have:.\",classrooms,\"classrooms\")\n",
    "print(\"Total capacity per classroom:.\",classroomscapacity,\"students\")\n"
   ]
  },
  {
   "cell_type": "markdown",
   "metadata": {},
   "source": [
    "## EXERCISE 5 (MORE VARIABLES AND PRINTING)"
   ]
  },
  {
   "cell_type": "markdown",
   "metadata": {},
   "source": [
    " In this exercise we see a way called a \"format string\", and with this we can make something to our program to be more human, all of this is used to use a diferent types of variables but in this case this variables are names and characteristics used to describe maybe the characteristics of the person that is working with the program. Also this type of command is put after a print and between parenthesis and quotation marks.EXAMPLE:"
   ]
  },
  {
   "cell_type": "code",
   "execution_count": 4,
   "metadata": {},
   "outputs": [
    {
     "name": "stdout",
     "output_type": "stream",
     "text": [
      "My name is:. Luis\n",
      "My favorite color is:. blue\n",
      "I study in:. UT_ALTAMIRA\n"
     ]
    }
   ],
   "source": [
    "my_name = \"Luis\"\n",
    "my_favoritecolor = \"blue\"\n",
    "my_school = \"UT_ALTAMIRA\"\n",
    "\n",
    "print(\"My name is:\",my_name)\n",
    "print(\"My favorite color is:\",my_favoritecolor)\n",
    "print(\"I study in:\",my_school)"
   ]
  },
  {
   "cell_type": "code",
   "execution_count": null,
   "metadata": {},
   "outputs": [],
   "source": []
  },
  {
   "cell_type": "code",
   "execution_count": null,
   "metadata": {},
   "outputs": [],
   "source": []
  }
 ],
 "metadata": {
  "kernelspec": {
   "display_name": "Python 3",
   "language": "python",
   "name": "python3"
  },
  "language_info": {
   "codemirror_mode": {
    "name": "ipython",
    "version": 3
   },
   "file_extension": ".py",
   "mimetype": "text/x-python",
   "name": "python",
   "nbconvert_exporter": "python",
   "pygments_lexer": "ipython3",
   "version": "3.7.3"
  }
 },
 "nbformat": 4,
 "nbformat_minor": 2
}
