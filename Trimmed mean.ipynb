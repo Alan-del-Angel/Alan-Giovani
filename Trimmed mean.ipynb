{
 "cells": [
  {
   "cell_type": "code",
   "execution_count": 2,
   "metadata": {},
   "outputs": [
    {
     "name": "stdout",
     "output_type": "stream",
     "text": [
      "Write the trimmed percent: 10\n",
      "value: -6\n",
      "List of the values [-6.0]\n",
      "Add more values so that the operation is valid\n",
      "value: 5\n",
      "List of the values [-6.0, 5.0]\n",
      "Add more values so that the operation is valid\n",
      "value: 9\n",
      "List of the values [-6.0, 5.0, 9.0]\n",
      "Write 0 to finish the program\n",
      "Write any number to continue= 1\n",
      "value: 4\n",
      "List of the values [-6.0, 5.0, 9.0, 4.0]\n",
      "Write 0 to finish the program\n",
      "Write any number to continue= 1\n",
      "value: 4\n",
      "List of the values [-6.0, 5.0, 9.0, 4.0, 4.0]\n",
      "Write 0 to finish the program\n",
      "Write any number to continue= 1\n",
      "value: 12\n",
      "List of the values [-6.0, 5.0, 9.0, 4.0, 4.0, 12.0]\n",
      "Write 0 to finish the program\n",
      "Write any number to continue= 1\n",
      "value: 37\n",
      "List of the values [-6.0, 5.0, 9.0, 4.0, 4.0, 12.0, 37.0]\n",
      "Write 0 to finish the program\n",
      "Write any number to continue= 1\n",
      "value: 5\n",
      "List of the values [-6.0, 5.0, 9.0, 4.0, 4.0, 12.0, 37.0, 5.0]\n",
      "Write 0 to finish the program\n",
      "Write any number to continue= 1\n",
      "value: 3\n",
      "List of the values [-6.0, 5.0, 9.0, 4.0, 4.0, 12.0, 37.0, 5.0, 3.0]\n",
      "Write 0 to finish the program\n",
      "Write any number to continue= 1\n",
      "value: 3\n",
      "List of the values [-6.0, 5.0, 9.0, 4.0, 4.0, 12.0, 37.0, 5.0, 3.0, 3.0]\n",
      "Write 0 to finish the program\n",
      "Write any number to continue= 0\n",
      "The numbers in order= [-6.0, 3.0, 3.0, 4.0, 4.0, 5.0, 5.0, 9.0, 12.0, 37.0]\n",
      "List with the trimmed percent applied= [3.0, 3.0, 4.0, 4.0, 5.0, 5.0, 9.0, 12.0]\n",
      "The trimmed mean is=  5.625\n"
     ]
    }
   ],
   "source": [
    "list1=[]\n",
    "n=0\n",
    "i=0\n",
    "tr=int(input(\"Write the trimmed percent: \"))\n",
    "while i<1:\n",
    "    for a in range(0,1):\n",
    "        num=float(input(\"value: \"))\n",
    "        list1.append(num)\n",
    "        p=tr/100\n",
    "        f=p*(n)\n",
    "        o=int(round(f))\n",
    "        g=o\n",
    "        j=g*2\n",
    "        n+=1 \n",
    "        print(\"List of the values\",list1)\n",
    "        order=sorted(list1)\n",
    "    \n",
    "        if n < 3:\n",
    "            print(\"Add more values so that the operation is valid\")\n",
    "        if n>=3:\n",
    "            y=int(input(\"Write 0 to finish the program\\nWrite any number to continue= \"))\n",
    "            if y==0:\n",
    "                print(\"The numbers in order=\",order)\n",
    "                rc=order[g:-g]\n",
    "                print(\"List with the trimmed percent applied=\",rc)\n",
    "                k=sum(rc[:])\n",
    "                r=k/(n-j)\n",
    "                print(\"The trimmed mean is= \",r)\n",
    "                i=i+1"
   ]
  }
 ],
 "metadata": {
  "kernelspec": {
   "display_name": "Python 3",
   "language": "python",
   "name": "python3"
  },
  "language_info": {
   "codemirror_mode": {
    "name": "ipython",
    "version": 3
   },
   "file_extension": ".py",
   "mimetype": "text/x-python",
   "name": "python",
   "nbconvert_exporter": "python",
   "pygments_lexer": "ipython3",
   "version": "3.7.3"
  }
 },
 "nbformat": 4,
 "nbformat_minor": 2
}
